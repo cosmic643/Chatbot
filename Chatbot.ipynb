{
  "nbformat": 4,
  "nbformat_minor": 0,
  "metadata": {
    "colab": {
      "provenance": [],
      "collapsed_sections": [],
      "authorship_tag": "ABX9TyPacXJ4A5xcQPtxhhU9Q9tx",
      "include_colab_link": true
    },
    "kernelspec": {
      "name": "python3",
      "display_name": "Python 3"
    },
    "language_info": {
      "name": "python"
    }
  },
  "cells": [
    {
      "cell_type": "markdown",
      "metadata": {
        "id": "view-in-github",
        "colab_type": "text"
      },
      "source": [
        "<a href=\"https://colab.research.google.com/github/cosmic643/Chatbot/blob/main/Chatbot.ipynb\" target=\"_parent\"><img src=\"https://colab.research.google.com/assets/colab-badge.svg\" alt=\"Open In Colab\"/></a>"
      ]
    },
    {
      "cell_type": "markdown",
      "source": [
        "The Six Major Steps of Desigining a Chatbot: \n",
        "\n",
        "\n",
        "1. Import Corpus: Corpus is the training data required for the chatbot to learn\n",
        "2. Preprocessing the Data and test case handling: Converting bot input and output to either upper or lower case \n",
        "4. Tokenization: It is a structured process if converting a sentence into individual collection of words\n",
        "5. Stemming: Stemming is the process of finding similarities between words with same root words i.e., reducing inflected words too their word stem\n",
        "6. Bag of Words: Process of converting word in numbers by generating vector embeddings from the tokens generated i.e., is word is assigned a vector\n",
        "7. One hot encoding: This is the method by which categorical data is converted to be in a machine readable form"
      ],
      "metadata": {
        "id": "7eJzg9S52chZ"
      }
    },
    {
      "cell_type": "code",
      "source": [
        "from google.colab import drive\n",
        "drive.mount('/content/drive')"
      ],
      "metadata": {
        "colab": {
          "base_uri": "https://localhost:8080/"
        },
        "id": "9crUcgUbOeXf",
        "outputId": "570a4995-09d0-4529-b66c-26be0dc4573d"
      },
      "execution_count": null,
      "outputs": [
        {
          "output_type": "stream",
          "name": "stdout",
          "text": [
            "Drive already mounted at /content/drive; to attempt to forcibly remount, call drive.mount(\"/content/drive\", force_remount=True).\n"
          ]
        }
      ]
    },
    {
      "cell_type": "code",
      "execution_count": null,
      "metadata": {
        "id": "0fTvTf42Lt76"
      },
      "outputs": [],
      "source": [
        "import numpy as np\n",
        "import nltk\n",
        "import string\n",
        "import random\n",
        "nltk.download('all')"
      ]
    },
    {
      "cell_type": "code",
      "source": [
        "f = open('/content/drive/MyDrive/chatbot.txt','r',errors = 'ignore')\n",
        "raw_doc = f.read()\n",
        "raw_doc = raw_doc.lower() #converts text to lower case\n",
        "nltk.download('punkt') #Using the punkt tokenizer\n",
        "nltk.download('wordnet') #using the wordnet dictionary\n",
        "sent_tokens = nltk.sent_tokenize(raw_doc) #converts doc to list of sentences\n",
        "word_tokens = nltk.word_tokenize(raw_doc) #converts doc to list of words"
      ],
      "metadata": {
        "id": "VawKUDv6MLG4"
      },
      "execution_count": null,
      "outputs": []
    },
    {
      "cell_type": "code",
      "source": [
        "sent_tokens[:2]"
      ],
      "metadata": {
        "id": "dVhOtdkjPMQw"
      },
      "execution_count": null,
      "outputs": []
    },
    {
      "cell_type": "code",
      "source": [
        "word_tokens[:2]"
      ],
      "metadata": {
        "id": "hUd57WJxPSZv"
      },
      "execution_count": null,
      "outputs": []
    },
    {
      "cell_type": "markdown",
      "source": [
        "Text Preprocessing"
      ],
      "metadata": {
        "id": "hmOKs7l_Pf0m"
      }
    },
    {
      "cell_type": "code",
      "source": [
        "lemmer = nltk.stem.WordNetLemmatizer()\n",
        "#Wordnet is a semantically oriented dictionary of english  included in NLTK\n",
        "def LemTokens(tokens):\n",
        "  return [lemmer.lemmatize(token) for token in tokens]\n",
        "remove_punct_dict = dict((ord(punct),None) for punct in string.punctuation)\n",
        "def LemNormalize(text):\n",
        "  return LemTokens(nltk.word_tokenize(text.lower().translate(remove_punct_dict)))"
      ],
      "metadata": {
        "id": "Tq1uSd1APebv"
      },
      "execution_count": null,
      "outputs": []
    },
    {
      "cell_type": "markdown",
      "source": [
        "Defining the Greeting Function"
      ],
      "metadata": {
        "id": "HunSjyKESPpP"
      }
    },
    {
      "cell_type": "code",
      "source": [
        "greet_inputs = (\"hello\",\"hi\",\"greetings\",\"sup\",\"what's up\",\"hey\")\n",
        "greet_resp = (\"Hi\",\"Hello\",\"*node*\",\"Hi there!\",\"Hey\")\n",
        "def greet(sentence):\n",
        "  for word in sentence.split():\n",
        "    if word.lower()in greet_inputs:\n",
        "      return random.choice(greet_resp)\n"
      ],
      "metadata": {
        "id": "b4lYooyASO9f"
      },
      "execution_count": null,
      "outputs": []
    },
    {
      "cell_type": "markdown",
      "source": [
        "Response Generation"
      ],
      "metadata": {
        "id": "6mFqPzzuTE3_"
      }
    },
    {
      "cell_type": "code",
      "source": [
        "from sklearn.feature_extraction.text import TfidfVectorizer\n",
        "from sklearn.metrics.pairwise import cosine_similarity\n",
        "def response(user_repsonse):\n",
        "  robo1_response = ''\n",
        "  TfidVec = TfidfVectorizer(tokenizer = LemNormalize,stop_words='english')\n",
        "  tfidf = TfidVec.fit_transform(sent_tokens)\n",
        "  vals = cosine_similarity(tfidf[-1],tfidf)\n",
        "  idx = vals.argsort()[0][-2]\n",
        "  flat = vals.flatten()\n",
        "  flat.sort()\n",
        "  req_tfidf = flat[-2]\n",
        "  if(req_tfidf == 0):\n",
        "    robo1_response = robo1_response + \"I am sorry! I don't understand you\"\n",
        "    return robo1_response\n",
        "  else:\n",
        "    robo1_response = robo1_response + sent_tokens[idx]\n",
        "    return robo1_response\n"
      ],
      "metadata": {
        "id": "4rZLtytCTDsH"
      },
      "execution_count": null,
      "outputs": []
    },
    {
      "cell_type": "markdown",
      "source": [
        "Defining conversation start/end protocol"
      ],
      "metadata": {
        "id": "elFO13fBHaww"
      }
    },
    {
      "cell_type": "code",
      "source": [
        "flag = True\n",
        "print(\"BOT: My name is April. Let's have a conversation! Also, if you want to exit any time, just type Bye!\")\n",
        "while(flag):\n",
        "  user_response = input()\n",
        "  user_response = user_response.lower()\n",
        "  if(user_response != 'bye'):\n",
        "    if(user_response == 'thanks' or user_response == 'thank you'):\n",
        "      flag = False\n",
        "      print(\"Bot: You are welcome..\")\n",
        "    else:\n",
        "      if(greet(user_response)!= None):\n",
        "        print(\"BOT: \"+greet(user_response))\n",
        "      else:\n",
        "        sent_tokens.append(user_response)\n",
        "        word_tokens = word_tokens+nltk.word_tokenize(user_response)\n",
        "        final_words = list(set(word_tokens))\n",
        "        print(\"BOT: \",end=\"\")\n",
        "        print(response(user_response))\n",
        "        sent_tokens.remove(user_response)\n",
        "  else:\n",
        "    flag = False\n",
        "    print(\"BOT: Goodbye! Take Care\")\n",
        "\n"
      ],
      "metadata": {
        "id": "2ZObeOHrHaYD"
      },
      "execution_count": null,
      "outputs": []
    }
  ]
}